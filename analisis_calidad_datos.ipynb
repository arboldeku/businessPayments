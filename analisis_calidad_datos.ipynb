{
 "cells": [
  {
   "cell_type": "markdown",
   "metadata": {},
   "source": [
    "3. **Informe del Análisis de Calidad de Datos:** Documentar en formato markdown los resultados del análisis de calidad de los datos, identificando problemas encontrados (como valores faltantes o inconsistencias) y detallando las soluciones implementadas para garantizar la confiabilidad del análisis posterior."
   ]
  },
  {
   "cell_type": "code",
   "execution_count": 13,
   "metadata": {},
   "outputs": [
    {
     "name": "stdout",
     "output_type": "stream",
     "text": [
      "Basic Information extract - cash request - data analyst.csv:\n",
      "<class 'pandas.core.frame.DataFrame'>\n",
      "RangeIndex: 23970 entries, 0 to 23969\n",
      "Data columns (total 16 columns):\n",
      " #   Column                      Non-Null Count  Dtype  \n",
      "---  ------                      --------------  -----  \n",
      " 0   id                          23970 non-null  int64  \n",
      " 1   amount                      23970 non-null  float64\n",
      " 2   status                      23970 non-null  object \n",
      " 3   created_at                  23970 non-null  object \n",
      " 4   updated_at                  23970 non-null  object \n",
      " 5   user_id                     21867 non-null  float64\n",
      " 6   moderated_at                16035 non-null  object \n",
      " 7   deleted_account_id          2104 non-null   float64\n",
      " 8   reimbursement_date          23970 non-null  object \n",
      " 9   cash_request_received_date  16289 non-null  object \n",
      " 10  money_back_date             16543 non-null  object \n",
      " 11  transfer_type               23970 non-null  object \n",
      " 12  send_at                     16641 non-null  object \n",
      " 13  recovery_status             3330 non-null   object \n",
      " 14  reco_creation               3330 non-null   object \n",
      " 15  reco_last_update            3330 non-null   object \n",
      "dtypes: float64(3), int64(1), object(12)\n",
      "memory usage: 2.9+ MB\n",
      "None\n"
     ]
    }
   ],
   "source": [
    "import pandas as pd\n",
    "\n",
    "# Load datasets\n",
    "cash_request_df = pd.read_csv('project_dataset/extract - cash request - data analyst.csv')\n",
    "fees_df = pd.read_csv('project_dataset/extract - fees - data analyst - .csv')\n",
    "\n",
    "# Display basic information about the dataset\n",
    "print(\"Basic Information extract - cash request - data analyst.csv:\")\n",
    "print(cash_request_df.info())"
   ]
  },
  {
   "cell_type": "code",
   "execution_count": 14,
   "metadata": {},
   "outputs": [
    {
     "name": "stdout",
     "output_type": "stream",
     "text": [
      "Basic Information extract - fees - data analyst - .csv:\n",
      "<class 'pandas.core.frame.DataFrame'>\n",
      "RangeIndex: 21061 entries, 0 to 21060\n",
      "Data columns (total 13 columns):\n",
      " #   Column           Non-Null Count  Dtype  \n",
      "---  ------           --------------  -----  \n",
      " 0   id               21061 non-null  int64  \n",
      " 1   cash_request_id  21057 non-null  float64\n",
      " 2   type             21061 non-null  object \n",
      " 3   status           21061 non-null  object \n",
      " 4   category         2196 non-null   object \n",
      " 5   total_amount     21061 non-null  float64\n",
      " 6   reason           21061 non-null  object \n",
      " 7   created_at       21061 non-null  object \n",
      " 8   updated_at       21061 non-null  object \n",
      " 9   paid_at          15531 non-null  object \n",
      " 10  from_date        7766 non-null   object \n",
      " 11  to_date          7766 non-null   object \n",
      " 12  charge_moment    21061 non-null  object \n",
      "dtypes: float64(2), int64(1), object(10)\n",
      "memory usage: 2.1+ MB\n",
      "None\n"
     ]
    }
   ],
   "source": [
    "# Display basic information about the dataset\n",
    "print(\"Basic Information extract - fees - data analyst - .csv:\")\n",
    "print(fees_df.info())"
   ]
  },
  {
   "cell_type": "code",
   "execution_count": 15,
   "metadata": {},
   "outputs": [],
   "source": [
    "# Evaluate data quality\n",
    "def evaluate_data_quality(df, df_name):\n",
    "    print(f\"Evaluating data quality for {df_name}...\\n\")\n",
    "    \n",
    "    # Check for missing values\n",
    "    missing_values = df.isnull().sum()\n",
    "    print(f\"Missing values in {df_name}:\\n{missing_values}\\n\")\n",
    "    \n",
    "    # Check for duplicate rows\n",
    "    duplicate_rows = df.duplicated().sum()\n",
    "    print(f\"Duplicate rows in {df_name}: {duplicate_rows}\\n\")\n",
    "    \n",
    "    # Check for inconsistencies (example: negative values in columns that should only have positive values)\n",
    "    for column in df.select_dtypes(include=['number']).columns:\n",
    "        negative_values = (df[column] < 0).sum()\n",
    "        if negative_values > 0:\n",
    "            print(f\"Column '{column}' in {df_name} has {negative_values} negative values.\\n\")\n",
    "    \n",
    "    # Summary statistics\n",
    "    print(f\"Summary statistics for {df_name}:\\n{df.describe()}\\n\")"
   ]
  },
  {
   "cell_type": "code",
   "execution_count": 16,
   "metadata": {},
   "outputs": [
    {
     "name": "stdout",
     "output_type": "stream",
     "text": [
      "Evaluating data quality for extract - cash request - data analyst.csv...\n",
      "\n",
      "Missing values in extract - cash request - data analyst.csv:\n",
      "id                                0\n",
      "amount                            0\n",
      "status                            0\n",
      "created_at                        0\n",
      "updated_at                        0\n",
      "user_id                        2103\n",
      "moderated_at                   7935\n",
      "deleted_account_id            21866\n",
      "reimbursement_date                0\n",
      "cash_request_received_date     7681\n",
      "money_back_date                7427\n",
      "transfer_type                     0\n",
      "send_at                        7329\n",
      "recovery_status               20640\n",
      "reco_creation                 20640\n",
      "reco_last_update              20640\n",
      "dtype: int64\n",
      "\n",
      "Duplicate rows in extract - cash request - data analyst.csv: 0\n",
      "\n",
      "Summary statistics for extract - cash request - data analyst.csv:\n",
      "                 id        amount        user_id  deleted_account_id\n",
      "count  23970.000000  23970.000000   21867.000000         2104.000000\n",
      "mean   13910.966124     82.720818   32581.250789         9658.755228\n",
      "std     7788.117214     26.528065   27618.565773         7972.743249\n",
      "min        3.000000      1.000000      34.000000           91.000000\n",
      "25%     7427.250000     50.000000   10804.000000         3767.000000\n",
      "50%    14270.500000    100.000000   23773.000000         6121.500000\n",
      "75%    20607.750000    100.000000   46965.000000        16345.000000\n",
      "max    27010.000000    200.000000  103719.000000        30445.000000\n",
      "\n"
     ]
    }
   ],
   "source": [
    "# Evaluate data quality for extract - cash request - data analyst dataset\n",
    "evaluate_data_quality(cash_request_df, 'extract - cash request - data analyst.csv')"
   ]
  },
  {
   "cell_type": "code",
   "execution_count": 17,
   "metadata": {},
   "outputs": [
    {
     "name": "stdout",
     "output_type": "stream",
     "text": [
      "Evaluating data quality for extract - fees - data analyst - .csv...\n",
      "\n",
      "Missing values in extract - fees - data analyst - .csv:\n",
      "id                     0\n",
      "cash_request_id        4\n",
      "type                   0\n",
      "status                 0\n",
      "category           18865\n",
      "total_amount           0\n",
      "reason                 0\n",
      "created_at             0\n",
      "updated_at             0\n",
      "paid_at             5530\n",
      "from_date          13295\n",
      "to_date            13295\n",
      "charge_moment          0\n",
      "dtype: int64\n",
      "\n",
      "Duplicate rows in extract - fees - data analyst - .csv: 0\n",
      "\n",
      "Summary statistics for extract - fees - data analyst - .csv:\n",
      "                 id  cash_request_id  total_amount\n",
      "count  21061.000000     21057.000000  21061.000000\n",
      "mean   10645.355111     16318.449162      5.000237\n",
      "std     6099.315256      6656.149949      0.034453\n",
      "min        1.000000      1456.000000      5.000000\n",
      "25%     5385.000000     11745.000000      5.000000\n",
      "50%    10652.000000     17160.000000      5.000000\n",
      "75%    15925.000000     21796.000000      5.000000\n",
      "max    21193.000000     27010.000000     10.000000\n",
      "\n"
     ]
    }
   ],
   "source": [
    "# Evaluate data quality for extract - fees - data analyst dataset\n",
    "evaluate_data_quality(fees_df, 'extract - fees - data analyst - .csv')"
   ]
  },
  {
   "cell_type": "code",
   "execution_count": null,
   "metadata": {},
   "outputs": [],
   "source": [
    "\n",
    "# Data cleaning and preprocessing\n",
    "def clean_data(df):\n",
    "    # Fill missing values with appropriate strategies (example: mean for numerical columns)\n",
    "    for column in df.select_dtypes(include=['number']).columns:\n",
    "        df[column].fillna(df[column].mean(), inplace=True)\n",
    "    \n",
    "    # Drop duplicate rows\n",
    "    df.drop_duplicates(inplace=True)\n",
    "    \n",
    "    # Remove negative values in numerical columns (example: set them to zero)\n",
    "    for column in df.select_dtypes(include=['number']).columns:\n",
    "        df[column] = df[column].apply(lambda x: max(x, 0))\n",
    "    \n",
    "    return df\n",
    "\n",
    "# Clean both datasets\n",
    "cleaned_cash_request_df = clean_data(cash_request_df)\n",
    "cleaned_fees_df = clean_data(fees_df)\n",
    "\n",
    "# Save cleaned datasets\n",
    "cleaned_cash_request_df.to_csv('project_dataset/cleaned_extract - cash request - data analyst.csv', index=False)\n",
    "cleaned_fees_df.to_csv('project_dataset/cleaned_extract - fees - data analyst - .csv', index=False)\n",
    "\n",
    "print(\"Data cleaning and preprocessing completed.\")"
   ]
  }
 ],
 "metadata": {
  "kernelspec": {
   "display_name": "Python 3",
   "language": "python",
   "name": "python3"
  },
  "language_info": {
   "codemirror_mode": {
    "name": "ipython",
    "version": 3
   },
   "file_extension": ".py",
   "mimetype": "text/x-python",
   "name": "python",
   "nbconvert_exporter": "python",
   "pygments_lexer": "ipython3",
   "version": "3.9.6"
  }
 },
 "nbformat": 4,
 "nbformat_minor": 2
}
